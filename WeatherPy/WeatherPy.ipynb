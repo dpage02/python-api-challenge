{
 "cells": [
  {
   "cell_type": "markdown",
   "metadata": {},
   "source": [
    "# WeatherPy\n",
    "----\n",
    "\n",
    "#### Note\n",
    "* Instructions have been included for each segment. You do not have to follow them exactly, but they are included to help you think through the steps."
   ]
  },
  {
   "cell_type": "code",
   "execution_count": 1,
   "metadata": {
    "scrolled": false
   },
   "outputs": [],
   "source": [
    "# Dependencies and Setup\n",
    "import matplotlib.pyplot as plt\n",
    "import pandas as pd\n",
    "import numpy as np\n",
    "import requests\n",
    "import time\n",
    "from scipy.stats import linregress\n",
    "from pprint import pprint\n",
    "import random\n",
    "\n",
    "np.random.seed(42)\n",
    "\n",
    "# Import API key\n",
    "from api_keys import weather_api_key\n",
    "\n",
    "# Incorporated citipy to determine city based on latitude and longitude\n",
    "from citipy import citipy\n",
    "\n",
    "# Output File (CSV)\n",
    "output_data_file = \"output_data/cities.csv\"\n",
    "\n",
    "# Range of latitudes and longitudes\n",
    "lat_range = (-90, 90)\n",
    "lng_range = (-180, 180)"
   ]
  },
  {
   "cell_type": "markdown",
   "metadata": {},
   "source": [
    "## Generate Cities List"
   ]
  },
  {
   "cell_type": "code",
   "execution_count": 2,
   "metadata": {
    "scrolled": true
   },
   "outputs": [
    {
     "data": {
      "text/plain": [
       "597"
      ]
     },
     "execution_count": 2,
     "metadata": {},
     "output_type": "execute_result"
    }
   ],
   "source": [
    "# List for holding lat_lngs and cities\n",
    "lat_lngs = []\n",
    "cities = []\n",
    "\n",
    "# Create a set of random lat and lng combinations\n",
    "lats = np.random.uniform(lat_range[0], lat_range[1], size=1500)\n",
    "lngs = np.random.uniform(lng_range[0], lng_range[1], size=1500)\n",
    "lat_lngs = zip(lats, lngs)\n",
    "\n",
    "# Identify nearest city for each lat, lng combination\n",
    "for lat_lng in lat_lngs:\n",
    "    city = citipy.nearest_city(lat_lng[0], lat_lng[1]).city_name\n",
    "    \n",
    "    # If the city is unique, then add it to a our cities list\n",
    "    if city not in cities:\n",
    "        cities.append(city)\n",
    "\n",
    "# Print the city count to confirm sufficient count\n",
    "len(cities)"
   ]
  },
  {
   "cell_type": "markdown",
   "metadata": {},
   "source": [
    "### Perform API Calls\n",
    "* Perform a weather check on each city using a series of successive API calls.\n",
    "* Include a print log of each city as it'sbeing processed (with the city number and city name).\n"
   ]
  },
  {
   "cell_type": "code",
   "execution_count": 3,
   "metadata": {
    "scrolled": true
   },
   "outputs": [],
   "source": [
    "# base url \n",
    "base_url = f\"http://api.openweathermap.org/data/2.5/weather?APPID={weather_api_key}&units=imperial&q=\""
   ]
  },
  {
   "cell_type": "code",
   "execution_count": 4,
   "metadata": {
    "scrolled": false
   },
   "outputs": [
    {
     "name": "stdout",
     "output_type": "stream",
     "text": [
      "Begining data retrieval\n",
      "City Name: henties bay. ID: 1\n",
      "counldn't get city\n",
      "City Name: saint-francois. ID: 2\n",
      "City Name: ushuaia. ID: 3\n",
      "City Name: mar del plata. ID: 4\n",
      "City Name: kruisfontein. ID: 5\n",
      "City Name: bronnoysund. ID: 6\n",
      "counldn't get city\n",
      "City Name: albany. ID: 7\n",
      "City Name: dikson. ID: 8\n",
      "City Name: ossora. ID: 9\n",
      "City Name: vaini. ID: 10\n",
      "City Name: castro. ID: 11\n",
      "counldn't get city\n",
      "City Name: san cristobal. ID: 12\n",
      "City Name: ulladulla. ID: 13\n",
      "City Name: ewa beach. ID: 14\n",
      "City Name: bluff. ID: 15\n",
      "City Name: maldonado. ID: 16\n",
      "City Name: mataura. ID: 17\n",
      "City Name: jamestown. ID: 18\n",
      "City Name: geraldton. ID: 19\n",
      "City Name: punta arenas. ID: 20\n",
      "City Name: mitu. ID: 21\n",
      "City Name: da nang. ID: 22\n",
      "City Name: bredasdorp. ID: 23\n",
      "counldn't get city\n",
      "City Name: busselton. ID: 24\n",
      "City Name: qaanaaq. ID: 25\n",
      "City Name: sitka. ID: 26\n",
      "City Name: rikitea. ID: 27\n",
      "City Name: yuma. ID: 28\n",
      "City Name: luanda. ID: 29\n",
      "City Name: saint-philippe. ID: 30\n",
      "City Name: atuona. ID: 31\n",
      "City Name: te anau. ID: 32\n",
      "City Name: marrakesh. ID: 33\n",
      "City Name: mbaiki. ID: 34\n",
      "City Name: makakilo city. ID: 35\n",
      "City Name: east london. ID: 36\n",
      "City Name: cherskiy. ID: 37\n",
      "City Name: lyman. ID: 38\n",
      "City Name: saskylakh. ID: 39\n",
      "counldn't get city\n",
      "City Name: yellowknife. ID: 40\n",
      "City Name: chuy. ID: 41\n",
      "City Name: new norfolk. ID: 42\n",
      "City Name: broken hill. ID: 43\n",
      "City Name: ribas do rio pardo. ID: 44\n",
      "City Name: ancud. ID: 45\n",
      "City Name: vanavara. ID: 46\n",
      "City Name: coquimbo. ID: 47\n",
      "City Name: sao filipe. ID: 48\n",
      "City Name: kodiak. ID: 49\n",
      "City Name: yurkivka. ID: 50\n",
      "counldn't get city\n",
      "City Name: inhambane. ID: 51\n",
      "City Name: thompson. ID: 52\n",
      "City Name: ponta do sol. ID: 53\n",
      "City Name: richards bay. ID: 54\n",
      "City Name: hermanus. ID: 55\n",
      "City Name: russell. ID: 56\n",
      "City Name: angren. ID: 57\n",
      "City Name: hithadhoo. ID: 58\n",
      "City Name: nikolskoye. ID: 59\n",
      "City Name: port hardy. ID: 60\n",
      "City Name: hilo. ID: 61\n",
      "City Name: shar. ID: 62\n",
      "City Name: goma. ID: 63\n",
      "City Name: pizarro. ID: 64\n",
      "City Name: faanui. ID: 65\n",
      "City Name: hobart. ID: 66\n",
      "City Name: road town. ID: 67\n",
      "City Name: lebu. ID: 68\n",
      "City Name: amapa. ID: 69\n",
      "City Name: barrow. ID: 70\n",
      "City Name: cape town. ID: 71\n",
      "City Name: darhan. ID: 72\n",
      "City Name: victor harbor. ID: 73\n",
      "counldn't get city\n",
      "City Name: the valley. ID: 74\n",
      "City Name: verkhnyaya inta. ID: 75\n",
      "City Name: beringovskiy. ID: 76\n",
      "City Name: skjervoy. ID: 77\n",
      "City Name: kalmunai. ID: 78\n",
      "City Name: westport. ID: 79\n",
      "City Name: oudtshoorn. ID: 80\n",
      "City Name: grand gaube. ID: 81\n",
      "City Name: la ronge. ID: 82\n",
      "City Name: terrak. ID: 83\n",
      "City Name: bonthe. ID: 84\n",
      "City Name: bengkulu. ID: 85\n",
      "City Name: necochea. ID: 86\n",
      "City Name: chokurdakh. ID: 87\n",
      "City Name: itarema. ID: 88\n",
      "City Name: pacifica. ID: 89\n",
      "City Name: isangel. ID: 90\n",
      "City Name: esperance. ID: 91\n",
      "City Name: port-gentil. ID: 92\n",
      "counldn't get city\n",
      "City Name: bontang. ID: 93\n",
      "City Name: mahebourg. ID: 94\n",
      "City Name: lavrentiya. ID: 95\n",
      "City Name: coihaique. ID: 96\n",
      "City Name: breves. ID: 97\n",
      "City Name: tuatapere. ID: 98\n",
      "City Name: ajdabiya. ID: 99\n",
      "City Name: saint-jean-port-joli. ID: 100\n",
      "City Name: vila franca do campo. ID: 101\n",
      "City Name: gat. ID: 102\n",
      "City Name: katsuura. ID: 103\n",
      "City Name: konongo. ID: 104\n",
      "City Name: kaitangata. ID: 105\n",
      "City Name: tommot. ID: 106\n",
      "City Name: wanning. ID: 107\n",
      "City Name: ribeira grande. ID: 108\n",
      "City Name: sorong. ID: 109\n",
      "City Name: rongcheng. ID: 110\n",
      "City Name: kahului. ID: 111\n",
      "City Name: caravelas. ID: 112\n",
      "City Name: norman wells. ID: 113\n",
      "City Name: sao luiz gonzaga. ID: 114\n",
      "counldn't get city\n",
      "City Name: naze. ID: 115\n",
      "City Name: ola. ID: 116\n",
      "City Name: ferkessedougou. ID: 117\n",
      "City Name: yabelo. ID: 118\n",
      "City Name: roald. ID: 119\n",
      "City Name: tasiilaq. ID: 120\n",
      "City Name: laguna. ID: 121\n",
      "City Name: avera. ID: 122\n",
      "City Name: kapaa. ID: 123\n",
      "City Name: tuktoyaktuk. ID: 124\n",
      "City Name: bilibino. ID: 125\n",
      "City Name: krapkowice. ID: 126\n",
      "City Name: butaritari. ID: 127\n",
      "City Name: santa maria. ID: 128\n",
      "counldn't get city\n",
      "City Name: panzhihua. ID: 129\n",
      "City Name: waipawa. ID: 130\n",
      "City Name: avarua. ID: 131\n",
      "counldn't get city\n",
      "City Name: mecca. ID: 132\n",
      "City Name: hauterive. ID: 133\n",
      "counldn't get city\n",
      "City Name: touros. ID: 134\n",
      "City Name: oga. ID: 135\n",
      "City Name: codrington. ID: 136\n",
      "City Name: khatanga. ID: 137\n",
      "City Name: klaksvik. ID: 138\n",
      "counldn't get city\n",
      "City Name: provideniya. ID: 139\n",
      "City Name: phan thiet. ID: 140\n",
      "City Name: pevek. ID: 141\n",
      "counldn't get city\n",
      "City Name: tiksi. ID: 142\n",
      "City Name: jacqueville. ID: 143\n",
      "City Name: halifax. ID: 144\n",
      "City Name: korla. ID: 145\n",
      "City Name: lagos. ID: 146\n",
      "City Name: ilhabela. ID: 147\n",
      "City Name: vidim. ID: 148\n",
      "counldn't get city\n",
      "City Name: sao gabriel da cachoeira. ID: 149\n",
      "City Name: sergeyevka. ID: 150\n",
      "City Name: los llanos de aridane. ID: 151\n",
      "City Name: paris. ID: 152\n",
      "City Name: urusha. ID: 153\n",
      "City Name: nome. ID: 154\n",
      "City Name: salalah. ID: 155\n",
      "City Name: victoria. ID: 156\n",
      "City Name: ginir. ID: 157\n",
      "City Name: abalak. ID: 158\n",
      "City Name: varhaug. ID: 159\n",
      "City Name: bambous virieux. ID: 160\n",
      "counldn't get city\n",
      "City Name: cockburn town. ID: 161\n",
      "City Name: saint-pierre. ID: 162\n",
      "City Name: hinton. ID: 163\n",
      "counldn't get city\n",
      "City Name: severo-kurilsk. ID: 164\n",
      "City Name: camana. ID: 165\n",
      "City Name: ixtapa. ID: 166\n",
      "City Name: fortuna. ID: 167\n",
      "City Name: sakakah. ID: 168\n",
      "City Name: follonica. ID: 169\n",
      "City Name: srandakan. ID: 170\n",
      "City Name: vao. ID: 171\n",
      "City Name: osypenko. ID: 172\n",
      "City Name: mayo. ID: 173\n",
      "City Name: saint george. ID: 174\n",
      "City Name: kokopo. ID: 175\n",
      "City Name: carutapera. ID: 176\n",
      "City Name: georgetown. ID: 177\n",
      "City Name: cidreira. ID: 178\n",
      "City Name: pemba. ID: 179\n",
      "City Name: poum. ID: 180\n",
      "City Name: paraiso. ID: 181\n",
      "City Name: mount isa. ID: 182\n",
      "City Name: abu dhabi. ID: 183\n",
      "City Name: valle del guamuez. ID: 184\n",
      "City Name: mirnyy. ID: 185\n",
      "City Name: houma. ID: 186\n",
      "counldn't get city\n",
      "counldn't get city\n",
      "City Name: moundou. ID: 187\n",
      "City Name: komsomolskiy. ID: 188\n",
      "City Name: huilong. ID: 189\n",
      "City Name: saldanha. ID: 190\n",
      "City Name: suoyarvi. ID: 191\n",
      "City Name: chapais. ID: 192\n",
      "City Name: plettenberg bay. ID: 193\n",
      "City Name: tottori. ID: 194\n",
      "City Name: abu samrah. ID: 195\n",
      "City Name: svetlogorsk. ID: 196\n",
      "City Name: ashland. ID: 197\n",
      "City Name: dingle. ID: 198\n",
      "City Name: yining. ID: 199\n",
      "City Name: belmonte. ID: 200\n",
      "City Name: carnarvon. ID: 201\n",
      "City Name: gravelbourg. ID: 202\n",
      "City Name: warmbad. ID: 203\n",
      "City Name: lukovetskiy. ID: 204\n",
      "City Name: torbay. ID: 205\n",
      "City Name: hovd. ID: 206\n",
      "City Name: meulaboh. ID: 207\n",
      "City Name: pouebo. ID: 208\n",
      "City Name: upernavik. ID: 209\n",
      "City Name: los andes. ID: 210\n",
      "City Name: leningradskiy. ID: 211\n",
      "City Name: sinnamary. ID: 212\n",
      "City Name: lagoa. ID: 213\n",
      "City Name: makinsk. ID: 214\n",
      "City Name: gurupa. ID: 215\n",
      "City Name: chinsali. ID: 216\n",
      "City Name: port elizabeth. ID: 217\n",
      "City Name: ineu. ID: 218\n",
      "City Name: faya. ID: 219\n",
      "counldn't get city\n",
      "City Name: la union. ID: 220\n",
      "City Name: narsaq. ID: 221\n",
      "counldn't get city\n",
      "City Name: newport. ID: 222\n",
      "counldn't get city\n",
      "City Name: lichinga. ID: 223\n",
      "counldn't get city\n",
      "City Name: cabedelo. ID: 224\n",
      "City Name: tongliao. ID: 225\n",
      "City Name: cayenne. ID: 226\n",
      "City Name: longyearbyen. ID: 227\n",
      "City Name: giyani. ID: 228\n",
      "City Name: qasigiannguit. ID: 229\n",
      "City Name: rawson. ID: 230\n",
      "City Name: sorland. ID: 231\n",
      "City Name: aguazul. ID: 232\n",
      "counldn't get city\n",
      "City Name: tongchuan. ID: 233\n",
      "City Name: taoudenni. ID: 234\n",
      "City Name: guerrero negro. ID: 235\n",
      "City Name: margate. ID: 236\n",
      "City Name: padang. ID: 237\n",
      "City Name: manchester. ID: 238\n",
      "City Name: santa cruz. ID: 239\n",
      "City Name: griffith. ID: 240\n",
      "City Name: sioux lookout. ID: 241\n",
      "City Name: martinez. ID: 242\n",
      "City Name: kodinsk. ID: 243\n",
      "City Name: avila. ID: 244\n",
      "City Name: dourados. ID: 245\n",
      "City Name: okha. ID: 246\n",
      "City Name: ghanzi. ID: 247\n",
      "City Name: olafsvik. ID: 248\n",
      "City Name: talara. ID: 249\n",
      "City Name: riwaka. ID: 250\n",
      "City Name: kozhva. ID: 251\n",
      "City Name: meadow lake. ID: 252\n",
      "City Name: lenina. ID: 253\n",
      "City Name: haines junction. ID: 254\n",
      "City Name: itoman. ID: 255\n",
      "City Name: talwandi bhai. ID: 256\n",
      "City Name: nola. ID: 257\n",
      "City Name: zhigansk. ID: 258\n",
      "City Name: karaton. ID: 259\n",
      "City Name: bilma. ID: 260\n",
      "City Name: kosum phisai. ID: 261\n",
      "City Name: pimentel. ID: 262\n",
      "City Name: presidencia roque saenz pena. ID: 263\n",
      "City Name: leverkusen. ID: 264\n",
      "City Name: khandyga. ID: 265\n",
      "counldn't get city\n",
      "City Name: dubbo. ID: 266\n"
     ]
    },
    {
     "name": "stdout",
     "output_type": "stream",
     "text": [
      "City Name: marzuq. ID: 267\n",
      "City Name: luderitz. ID: 268\n",
      "City Name: clyde river. ID: 269\n",
      "City Name: metro. ID: 270\n",
      "City Name: marsa matruh. ID: 271\n",
      "City Name: pauini. ID: 272\n",
      "City Name: mount gambier. ID: 273\n",
      "City Name: emerald. ID: 274\n",
      "City Name: muisne. ID: 275\n",
      "City Name: shellbrook. ID: 276\n",
      "City Name: usinsk. ID: 277\n",
      "City Name: terney. ID: 278\n",
      "City Name: ambilobe. ID: 279\n",
      "City Name: redmond. ID: 280\n",
      "City Name: arraial do cabo. ID: 281\n",
      "City Name: west sacramento. ID: 282\n",
      "City Name: lisala. ID: 283\n",
      "City Name: bali. ID: 284\n",
      "City Name: merauke. ID: 285\n",
      "City Name: yulara. ID: 286\n",
      "City Name: la rioja. ID: 287\n",
      "City Name: ndioum. ID: 288\n",
      "City Name: worcester. ID: 289\n",
      "City Name: kushtagi. ID: 290\n",
      "City Name: chifeng. ID: 291\n",
      "City Name: san alberto. ID: 292\n",
      "City Name: adeje. ID: 293\n",
      "City Name: port blair. ID: 294\n",
      "City Name: saint-joseph. ID: 295\n",
      "City Name: bahia blanca. ID: 296\n",
      "City Name: pundaguitan. ID: 297\n",
      "City Name: toamasina. ID: 298\n",
      "City Name: iqaluit. ID: 299\n",
      "City Name: hamilton. ID: 300\n",
      "City Name: kavieng. ID: 301\n",
      "counldn't get city\n",
      "City Name: cairns. ID: 302\n",
      "City Name: san policarpo. ID: 303\n",
      "City Name: urbano santos. ID: 304\n",
      "City Name: sao joao da barra. ID: 305\n",
      "City Name: zeya. ID: 306\n",
      "City Name: hasaki. ID: 307\n",
      "City Name: ulaangom. ID: 308\n",
      "counldn't get city\n",
      "City Name: austin. ID: 309\n",
      "counldn't get city\n",
      "City Name: sarangani. ID: 310\n",
      "City Name: kirovsk. ID: 311\n",
      "City Name: athabasca. ID: 312\n",
      "City Name: pisco. ID: 313\n",
      "City Name: cikupa. ID: 314\n",
      "City Name: sfantu gheorghe. ID: 315\n",
      "counldn't get city\n",
      "counldn't get city\n",
      "City Name: sur. ID: 316\n",
      "City Name: northam. ID: 317\n",
      "City Name: slonim. ID: 318\n",
      "City Name: arlit. ID: 319\n",
      "City Name: vestmannaeyjar. ID: 320\n",
      "City Name: burnie. ID: 321\n",
      "City Name: aden. ID: 322\n",
      "City Name: bereznehuvate. ID: 323\n",
      "City Name: staryy nadym. ID: 324\n",
      "City Name: nanortalik. ID: 325\n",
      "City Name: saint-denis. ID: 326\n",
      "counldn't get city\n",
      "City Name: pushkino. ID: 327\n",
      "City Name: corinth. ID: 328\n",
      "City Name: san jose. ID: 329\n",
      "City Name: bull savanna. ID: 330\n",
      "City Name: egvekinot. ID: 331\n",
      "City Name: dogondoutchi. ID: 332\n",
      "City Name: jeremie. ID: 333\n",
      "City Name: samarai. ID: 334\n",
      "City Name: ostrovnoy. ID: 335\n",
      "counldn't get city\n",
      "City Name: iralaya. ID: 336\n",
      "City Name: ekhabi. ID: 337\n",
      "City Name: patacamaya. ID: 338\n",
      "City Name: kudat. ID: 339\n",
      "City Name: derbent. ID: 340\n",
      "counldn't get city\n",
      "City Name: iguape. ID: 341\n",
      "City Name: ahuimanu. ID: 342\n",
      "City Name: mayuge. ID: 343\n",
      "counldn't get city\n",
      "City Name: olinda. ID: 344\n",
      "City Name: el calvario. ID: 345\n",
      "City Name: sinazongwe. ID: 346\n",
      "City Name: sisimiut. ID: 347\n",
      "City Name: khipro. ID: 348\n",
      "City Name: maragogi. ID: 349\n",
      "City Name: nantucket. ID: 350\n",
      "City Name: yibin. ID: 351\n",
      "City Name: kaseda. ID: 352\n",
      "City Name: sept-iles. ID: 353\n",
      "City Name: hay river. ID: 354\n",
      "City Name: grindavik. ID: 355\n",
      "City Name: shimoda. ID: 356\n",
      "City Name: rincon. ID: 357\n",
      "City Name: qaqortoq. ID: 358\n",
      "City Name: veraval. ID: 359\n",
      "counldn't get city\n",
      "City Name: lata. ID: 360\n",
      "City Name: talnakh. ID: 361\n",
      "City Name: chincha alta. ID: 362\n",
      "City Name: portland. ID: 363\n",
      "City Name: suntar. ID: 364\n",
      "City Name: toro. ID: 365\n",
      "counldn't get city\n",
      "City Name: khani. ID: 366\n",
      "City Name: george town. ID: 367\n",
      "City Name: kabwe. ID: 368\n",
      "City Name: goderich. ID: 369\n",
      "City Name: airai. ID: 370\n",
      "City Name: gweta. ID: 371\n",
      "City Name: kangaba. ID: 372\n",
      "City Name: kinshasa. ID: 373\n",
      "City Name: seguin. ID: 374\n",
      "City Name: nemuro. ID: 375\n",
      "City Name: dong hoi. ID: 376\n",
      "City Name: knyaze-volkonskoye. ID: 377\n",
      "City Name: peniche. ID: 378\n",
      "counldn't get city\n",
      "counldn't get city\n",
      "City Name: south valley. ID: 379\n",
      "City Name: mehamn. ID: 380\n",
      "City Name: sao jose da coroa grande. ID: 381\n",
      "City Name: sabang. ID: 382\n",
      "City Name: rovaniemi. ID: 383\n",
      "City Name: fukue. ID: 384\n",
      "City Name: naqadeh. ID: 385\n",
      "counldn't get city\n",
      "City Name: ayabaca. ID: 386\n",
      "counldn't get city\n",
      "City Name: jiaonan. ID: 387\n",
      "City Name: bandarbeyla. ID: 388\n",
      "City Name: toora-khem. ID: 389\n",
      "City Name: college. ID: 390\n",
      "City Name: klyuchi. ID: 391\n",
      "City Name: noumea. ID: 392\n",
      "City Name: furtwangen. ID: 393\n",
      "City Name: punta de bombon. ID: 394\n",
      "City Name: tessalit. ID: 395\n",
      "City Name: aykhal. ID: 396\n",
      "City Name: conde. ID: 397\n",
      "City Name: cohoes. ID: 398\n",
      "City Name: sambava. ID: 399\n",
      "City Name: sabha. ID: 400\n",
      "City Name: dalvik. ID: 401\n",
      "City Name: berlevag. ID: 402\n",
      "City Name: micheweni. ID: 403\n",
      "City Name: hongjiang. ID: 404\n",
      "City Name: luba. ID: 405\n",
      "City Name: sudbury. ID: 406\n",
      "City Name: gilgit. ID: 407\n",
      "City Name: arroyo. ID: 408\n",
      "City Name: arman. ID: 409\n",
      "City Name: quatre cocos. ID: 410\n",
      "City Name: ucar. ID: 411\n",
      "City Name: chamba. ID: 412\n",
      "City Name: buala. ID: 413\n",
      "City Name: ratnagiri. ID: 414\n",
      "City Name: yaan. ID: 415\n",
      "City Name: bereda. ID: 416\n",
      "City Name: adrar. ID: 417\n",
      "City Name: hofn. ID: 418\n",
      "City Name: trinidad. ID: 419\n",
      "City Name: kyaukse. ID: 420\n",
      "City Name: stornoway. ID: 421\n",
      "counldn't get city\n",
      "City Name: general roca. ID: 422\n",
      "City Name: talen. ID: 423\n",
      "City Name: shingu. ID: 424\n",
      "City Name: mutata. ID: 425\n",
      "City Name: bonavista. ID: 426\n",
      "City Name: ikare. ID: 427\n",
      "City Name: ilulissat. ID: 428\n",
      "City Name: wad madani. ID: 429\n",
      "City Name: atar. ID: 430\n",
      "City Name: sistranda. ID: 431\n",
      "City Name: frutigen. ID: 432\n",
      "counldn't get city\n",
      "City Name: soyo. ID: 433\n",
      "City Name: hirara. ID: 434\n",
      "City Name: itacare. ID: 435\n",
      "City Name: kasangulu. ID: 436\n",
      "City Name: carberry. ID: 437\n",
      "City Name: havre. ID: 438\n",
      "City Name: zavetnoye. ID: 439\n",
      "City Name: simao. ID: 440\n",
      "City Name: huayucachi. ID: 441\n",
      "City Name: opuwo. ID: 442\n",
      "City Name: kidal. ID: 443\n",
      "counldn't get city\n",
      "City Name: mushie. ID: 444\n",
      "City Name: yatou. ID: 445\n",
      "City Name: kutum. ID: 446\n",
      "City Name: cullman. ID: 447\n",
      "City Name: cedar city. ID: 448\n",
      "counldn't get city\n",
      "City Name: prince george. ID: 449\n",
      "City Name: severnoye. ID: 450\n",
      "counldn't get city\n",
      "City Name: myitkyina. ID: 451\n",
      "City Name: winneba. ID: 452\n",
      "City Name: leshukonskoye. ID: 453\n",
      "City Name: boundiali. ID: 454\n",
      "City Name: buzmeyin. ID: 455\n",
      "City Name: dunedin. ID: 456\n",
      "City Name: zyryanka. ID: 457\n",
      "City Name: dobric. ID: 458\n",
      "City Name: sao miguel do araguaia. ID: 459\n",
      "City Name: puerto madero. ID: 460\n",
      "City Name: raudeberg. ID: 461\n",
      "City Name: aswan. ID: 462\n",
      "City Name: mahon. ID: 463\n",
      "City Name: ust-nera. ID: 464\n",
      "City Name: vestmanna. ID: 465\n",
      "City Name: acapulco. ID: 466\n",
      "City Name: macia. ID: 467\n",
      "City Name: kununurra. ID: 468\n",
      "City Name: sawtell. ID: 469\n",
      "City Name: creil. ID: 470\n",
      "City Name: ruteng. ID: 471\n",
      "City Name: eyl. ID: 472\n",
      "City Name: ust-maya. ID: 473\n",
      "City Name: lobito. ID: 474\n",
      "counldn't get city\n",
      "City Name: puerto escondido. ID: 475\n",
      "City Name: bell ville. ID: 476\n",
      "counldn't get city\n",
      "City Name: waddan. ID: 477\n",
      "City Name: kumluca. ID: 478\n",
      "City Name: havelock. ID: 479\n",
      "City Name: tazmalt. ID: 480\n",
      "City Name: aras. ID: 481\n",
      "City Name: samarinda. ID: 482\n",
      "City Name: dhari. ID: 483\n",
      "City Name: novyy urengoy. ID: 484\n",
      "City Name: koundara. ID: 485\n",
      "City Name: yar-sale. ID: 486\n",
      "City Name: joshimath. ID: 487\n",
      "City Name: kushikino. ID: 488\n",
      "City Name: dayong. ID: 489\n",
      "City Name: senanga. ID: 490\n",
      "City Name: southampton. ID: 491\n",
      "City Name: altamont. ID: 492\n",
      "City Name: imbituba. ID: 493\n",
      "City Name: yerofey pavlovich. ID: 494\n",
      "City Name: russkaya polyana. ID: 495\n",
      "City Name: sola. ID: 496\n",
      "City Name: dhidhdhoo. ID: 497\n",
      "City Name: vredendal. ID: 498\n",
      "counldn't get city\n",
      "City Name: eirunepe. ID: 499\n",
      "City Name: tocopilla. ID: 500\n",
      "City Name: verkhoyansk. ID: 501\n"
     ]
    }
   ],
   "source": [
    "data_dic = {\n",
    "            \"City\": [],\n",
    "            \"Latitude\": [],\n",
    "            \"Longitude\": [],\n",
    "            \"Max Temp\": [],\n",
    "            \"Humidity\": [],\n",
    "            \"Cloudiness\": [],\n",
    "            \"Wind Speed\": [],\n",
    "            \"Country\": []\n",
    "           }\n",
    "\n",
    "print('Begining data retrieval')\n",
    "\n",
    "counter = 1\n",
    "for city in cities:\n",
    "    \n",
    "    try:\n",
    "        \n",
    "        \n",
    "        resp_json = requests.get(base_url + city).json()\n",
    "        data_dic['City'].append(resp_json['name'])\n",
    "        data_dic['Latitude'].append(resp_json['coord']['lat'])\n",
    "        data_dic['Longitude'].append(resp_json['coord']['lon'])\n",
    "        data_dic['Max Temp'].append(resp_json['main']['temp_max'])\n",
    "        data_dic['Humidity'].append(resp_json['main']['humidity'])\n",
    "        data_dic['Cloudiness'].append(resp_json['clouds']['all'])\n",
    "        data_dic['Wind Speed'].append(resp_json['wind']['speed'])\n",
    "        data_dic['Country'].append(resp_json['sys']['country'])\n",
    "        \n",
    "        print(f\"City Name: {city}. ID: {counter}\")\n",
    "        counter +=1\n",
    "        \n",
    "    except KeyError:\n",
    "        print(\"counldn't get city\")\n",
    "        cities.remove(city)\n"
   ]
  },
  {
   "cell_type": "code",
   "execution_count": null,
   "metadata": {},
   "outputs": [],
   "source": []
  },
  {
   "cell_type": "markdown",
   "metadata": {},
   "source": [
    "### Convert Raw Data to DataFrame\n",
    "* Export the city data into a .csv.\n",
    "* Display the DataFrame"
   ]
  },
  {
   "cell_type": "code",
   "execution_count": 5,
   "metadata": {
    "scrolled": true
   },
   "outputs": [
    {
     "name": "stdout",
     "output_type": "stream",
     "text": [
      "501\n"
     ]
    },
    {
     "data": {
      "text/html": [
       "<div>\n",
       "<style scoped>\n",
       "    .dataframe tbody tr th:only-of-type {\n",
       "        vertical-align: middle;\n",
       "    }\n",
       "\n",
       "    .dataframe tbody tr th {\n",
       "        vertical-align: top;\n",
       "    }\n",
       "\n",
       "    .dataframe thead th {\n",
       "        text-align: right;\n",
       "    }\n",
       "</style>\n",
       "<table border=\"1\" class=\"dataframe\">\n",
       "  <thead>\n",
       "    <tr style=\"text-align: right;\">\n",
       "      <th></th>\n",
       "      <th>City</th>\n",
       "      <th>Latitude</th>\n",
       "      <th>Longitude</th>\n",
       "      <th>Max Temp</th>\n",
       "      <th>Humidity</th>\n",
       "      <th>Cloudiness</th>\n",
       "      <th>Wind Speed</th>\n",
       "      <th>Country</th>\n",
       "    </tr>\n",
       "  </thead>\n",
       "  <tbody>\n",
       "    <tr>\n",
       "      <th>0</th>\n",
       "      <td>Henties Bay</td>\n",
       "      <td>-22.12</td>\n",
       "      <td>14.28</td>\n",
       "      <td>68.00</td>\n",
       "      <td>27</td>\n",
       "      <td>0</td>\n",
       "      <td>4.32</td>\n",
       "      <td>NA</td>\n",
       "    </tr>\n",
       "    <tr>\n",
       "      <th>1</th>\n",
       "      <td>Saint-François</td>\n",
       "      <td>46.42</td>\n",
       "      <td>3.91</td>\n",
       "      <td>68.00</td>\n",
       "      <td>68</td>\n",
       "      <td>18</td>\n",
       "      <td>1.92</td>\n",
       "      <td>FR</td>\n",
       "    </tr>\n",
       "    <tr>\n",
       "      <th>2</th>\n",
       "      <td>Ushuaia</td>\n",
       "      <td>-54.80</td>\n",
       "      <td>-68.30</td>\n",
       "      <td>28.40</td>\n",
       "      <td>86</td>\n",
       "      <td>0</td>\n",
       "      <td>4.70</td>\n",
       "      <td>AR</td>\n",
       "    </tr>\n",
       "    <tr>\n",
       "      <th>3</th>\n",
       "      <td>Mar del Plata</td>\n",
       "      <td>-38.00</td>\n",
       "      <td>-57.56</td>\n",
       "      <td>50.00</td>\n",
       "      <td>81</td>\n",
       "      <td>90</td>\n",
       "      <td>18.34</td>\n",
       "      <td>AR</td>\n",
       "    </tr>\n",
       "    <tr>\n",
       "      <th>4</th>\n",
       "      <td>Kruisfontein</td>\n",
       "      <td>-34.00</td>\n",
       "      <td>24.73</td>\n",
       "      <td>52.32</td>\n",
       "      <td>61</td>\n",
       "      <td>0</td>\n",
       "      <td>5.88</td>\n",
       "      <td>ZA</td>\n",
       "    </tr>\n",
       "  </tbody>\n",
       "</table>\n",
       "</div>"
      ],
      "text/plain": [
       "             City  Latitude  Longitude  Max Temp  Humidity  Cloudiness  \\\n",
       "0     Henties Bay    -22.12      14.28     68.00        27           0   \n",
       "1  Saint-François     46.42       3.91     68.00        68          18   \n",
       "2         Ushuaia    -54.80     -68.30     28.40        86           0   \n",
       "3   Mar del Plata    -38.00     -57.56     50.00        81          90   \n",
       "4    Kruisfontein    -34.00      24.73     52.32        61           0   \n",
       "\n",
       "   Wind Speed Country  \n",
       "0        4.32      NA  \n",
       "1        1.92      FR  \n",
       "2        4.70      AR  \n",
       "3       18.34      AR  \n",
       "4        5.88      ZA  "
      ]
     },
     "execution_count": 5,
     "metadata": {},
     "output_type": "execute_result"
    }
   ],
   "source": [
    "data_df = pd.DataFrame(data_dic)\n",
    "print(len(data_df))\n",
    "data_df.head()"
   ]
  },
  {
   "cell_type": "code",
   "execution_count": 6,
   "metadata": {},
   "outputs": [],
   "source": [
    "# save to cvs\n",
    "data_df.to_csv('WeatherPy.csv',index=False)"
   ]
  },
  {
   "cell_type": "code",
   "execution_count": null,
   "metadata": {
    "scrolled": true
   },
   "outputs": [],
   "source": []
  },
  {
   "cell_type": "markdown",
   "metadata": {},
   "source": [
    "## Inspect the data and remove the cities where the humidity > 100%.\n",
    "----\n",
    "Skip this step if there are no cities that have humidity > 100%. "
   ]
  },
  {
   "cell_type": "code",
   "execution_count": 7,
   "metadata": {
    "scrolled": true
   },
   "outputs": [
    {
     "name": "stdout",
     "output_type": "stream",
     "text": [
      "100\n"
     ]
    },
    {
     "data": {
      "text/plain": [
       "0"
      ]
     },
     "execution_count": 7,
     "metadata": {},
     "output_type": "execute_result"
    }
   ],
   "source": [
    "too_humid = data_df.loc[data_df['Humidity'] >100]\n",
    "print(data_df['Humidity'].max())\n",
    "len(too_humid)"
   ]
  },
  {
   "cell_type": "code",
   "execution_count": 8,
   "metadata": {
    "scrolled": true
   },
   "outputs": [],
   "source": [
    "#  Get the indices of cities that have humidity over 100%.\n"
   ]
  },
  {
   "cell_type": "code",
   "execution_count": 9,
   "metadata": {
    "scrolled": true
   },
   "outputs": [],
   "source": [
    "# Make a new DataFrame equal to the city data to drop all humidity outliers by index.\n",
    "# Passing \"inplace=False\" will make a copy of the city_data DataFrame, which we call \"clean_city_data\".\n"
   ]
  },
  {
   "cell_type": "code",
   "execution_count": 10,
   "metadata": {
    "scrolled": true
   },
   "outputs": [],
   "source": [
    "# Extract relevant fields from the data frame\n",
    "\n",
    "\n",
    "# Export the City_Data into a csv\n"
   ]
  },
  {
   "cell_type": "markdown",
   "metadata": {},
   "source": [
    "## Plotting the Data\n",
    "* Use proper labeling of the plots using plot titles (including date of analysis) and axes labels.\n",
    "* Save the plotted figures as .pngs."
   ]
  },
  {
   "cell_type": "markdown",
   "metadata": {},
   "source": [
    "## Latitude vs. Temperature Plot"
   ]
  },
  {
   "cell_type": "code",
   "execution_count": 11,
   "metadata": {},
   "outputs": [
    {
     "data": {
      "image/png": "[encoded data removed]",
      "text/plain": [
       "<Figure size 432x288 with 1 Axes>"
      ]
     },
     "metadata": {
      "needs_background": "light"
     },
     "output_type": "display_data"
    },
    {
     "data": {
      "image/png": "[encoded data removed]",
      "text/plain": [
       "<Figure size 432x288 with 1 Axes>"
      ]
     },
     "metadata": {
      "needs_background": "light"
     },
     "output_type": "display_data"
    },
    {
     "data": {
      "image/png": "[encoded data removed]",
      "text/plain": [
       "<Figure size 432x288 with 1 Axes>"
      ]
     },
     "metadata": {
      "needs_background": "light"
     },
     "output_type": "display_data"
    },
    {
     "data": {
      "image/png": "[encoded data removed]",
      "text/plain": [
       "<Figure size 432x288 with 1 Axes>"
      ]
     },
     "metadata": {
      "needs_background": "light"
     },
     "output_type": "display_data"
    }
   ],
   "source": [
    "# Mapping function\n",
    "#Function\n",
    "def mapping():\n",
    "    list = [\"Max Temp\", \"Humidity\",\"Cloudiness\", \"Wind Speed\" ]\n",
    "    for value in list:\n",
    "        data_df.plot(kind=\"scatter\", x = \"Latitude\", y = value)\n",
    "mapping()"
   ]
  },
  {
   "cell_type": "markdown",
   "metadata": {},
   "source": [
    "## Linear Regression"
   ]
  },
  {
   "cell_type": "code",
   "execution_count": 12,
   "metadata": {
    "scrolled": true
   },
   "outputs": [],
   "source": [
    "# OPTIONAL: Create a function to create Linear Regression plots"
   ]
  },
  {
   "cell_type": "code",
   "execution_count": 13,
   "metadata": {
    "scrolled": true
   },
   "outputs": [
    {
     "data": {
      "text/html": [
       "<div>\n",
       "<style scoped>\n",
       "    .dataframe tbody tr th:only-of-type {\n",
       "        vertical-align: middle;\n",
       "    }\n",
       "\n",
       "    .dataframe tbody tr th {\n",
       "        vertical-align: top;\n",
       "    }\n",
       "\n",
       "    .dataframe thead th {\n",
       "        text-align: right;\n",
       "    }\n",
       "</style>\n",
       "<table border=\"1\" class=\"dataframe\">\n",
       "  <thead>\n",
       "    <tr style=\"text-align: right;\">\n",
       "      <th></th>\n",
       "      <th>City</th>\n",
       "      <th>Latitude</th>\n",
       "      <th>Longitude</th>\n",
       "      <th>Max Temp</th>\n",
       "      <th>Humidity</th>\n",
       "      <th>Cloudiness</th>\n",
       "      <th>Wind Speed</th>\n",
       "      <th>Country</th>\n",
       "    </tr>\n",
       "  </thead>\n",
       "  <tbody>\n",
       "    <tr>\n",
       "      <th>0</th>\n",
       "      <td>Henties Bay</td>\n",
       "      <td>-22.12</td>\n",
       "      <td>14.28</td>\n",
       "      <td>68.00</td>\n",
       "      <td>27</td>\n",
       "      <td>0</td>\n",
       "      <td>4.32</td>\n",
       "      <td>NA</td>\n",
       "    </tr>\n",
       "    <tr>\n",
       "      <th>2</th>\n",
       "      <td>Ushuaia</td>\n",
       "      <td>-54.80</td>\n",
       "      <td>-68.30</td>\n",
       "      <td>28.40</td>\n",
       "      <td>86</td>\n",
       "      <td>0</td>\n",
       "      <td>4.70</td>\n",
       "      <td>AR</td>\n",
       "    </tr>\n",
       "    <tr>\n",
       "      <th>3</th>\n",
       "      <td>Mar del Plata</td>\n",
       "      <td>-38.00</td>\n",
       "      <td>-57.56</td>\n",
       "      <td>50.00</td>\n",
       "      <td>81</td>\n",
       "      <td>90</td>\n",
       "      <td>18.34</td>\n",
       "      <td>AR</td>\n",
       "    </tr>\n",
       "    <tr>\n",
       "      <th>4</th>\n",
       "      <td>Kruisfontein</td>\n",
       "      <td>-34.00</td>\n",
       "      <td>24.73</td>\n",
       "      <td>52.32</td>\n",
       "      <td>61</td>\n",
       "      <td>0</td>\n",
       "      <td>5.88</td>\n",
       "      <td>ZA</td>\n",
       "    </tr>\n",
       "    <tr>\n",
       "      <th>9</th>\n",
       "      <td>Vaini</td>\n",
       "      <td>-21.20</td>\n",
       "      <td>-175.20</td>\n",
       "      <td>75.20</td>\n",
       "      <td>78</td>\n",
       "      <td>75</td>\n",
       "      <td>11.41</td>\n",
       "      <td>TO</td>\n",
       "    </tr>\n",
       "  </tbody>\n",
       "</table>\n",
       "</div>"
      ],
      "text/plain": [
       "            City  Latitude  Longitude  Max Temp  Humidity  Cloudiness  \\\n",
       "0    Henties Bay    -22.12      14.28     68.00        27           0   \n",
       "2        Ushuaia    -54.80     -68.30     28.40        86           0   \n",
       "3  Mar del Plata    -38.00     -57.56     50.00        81          90   \n",
       "4   Kruisfontein    -34.00      24.73     52.32        61           0   \n",
       "9          Vaini    -21.20    -175.20     75.20        78          75   \n",
       "\n",
       "   Wind Speed Country  \n",
       "0        4.32      NA  \n",
       "2        4.70      AR  \n",
       "3       18.34      AR  \n",
       "4        5.88      ZA  \n",
       "9       11.41      TO  "
      ]
     },
     "execution_count": 13,
     "metadata": {},
     "output_type": "execute_result"
    }
   ],
   "source": [
    "# Create Northern and Southern Hemisphere DataFrames\n",
    "northern_hemi = data_df.loc[data_df['Latitude'] >0]\n",
    "southern_hemi = data_df.loc[data_df['Latitude'] <0]\n",
    "southern_hemi.head()"
   ]
  },
  {
   "cell_type": "code",
   "execution_count": 14,
   "metadata": {},
   "outputs": [],
   "source": [
    "def regression():\n",
    "    slope, intercept, r_value, p_value, std_err = linregress(x, y)\n",
    "    regress_values = x * slope + intercept\n",
    "    line_eq = \"y = \" + str(round(slope,2)) + \"x + \" + str(round(intercept,2))\n",
    "    plt.scatter(x, y)\n",
    "    plt.plot(x, regress_values, 'r-')\n",
    "    plt.annotate(line_eq, (0,0.2), xycoords='axes fraction', fontsize = 12, color='red')\n",
    "    plt.xlabel('Latitude')\n",
    "    plt.ylabel(y_label)\n",
    "    print(f\"The r-squared is: {r_value**2}\")\n",
    "    plt.show()    \n",
    "    "
   ]
  },
  {
   "cell_type": "markdown",
   "metadata": {},
   "source": [
    "####  Northern Hemisphere - Max Temp vs. Latitude Linear Regression"
   ]
  },
  {
   "cell_type": "code",
   "execution_count": 15,
   "metadata": {
    "scrolled": true
   },
   "outputs": [
    {
     "name": "stdout",
     "output_type": "stream",
     "text": [
      "The r-squared is: 0.5368007305548386\n"
     ]
    },
    {
     "data": {
      "image/png": "[encoded data removed]",
      "text/plain": [
       "<Figure size 432x288 with 1 Axes>"
      ]
     },
     "metadata": {
      "needs_background": "light"
     },
     "output_type": "display_data"
    }
   ],
   "source": [
    "x = northern_hemi['Latitude']\n",
    "y = northern_hemi['Max Temp']\n",
    "y_label = \"Max Temp\"\n",
    "regression()"
   ]
  },
  {
   "cell_type": "markdown",
   "metadata": {},
   "source": [
    "####  Southern Hemisphere - Max Temp vs. Latitude Linear Regression"
   ]
  },
  {
   "cell_type": "code",
   "execution_count": 16,
   "metadata": {
    "scrolled": true
   },
   "outputs": [
    {
     "name": "stdout",
     "output_type": "stream",
     "text": [
      "The r-squared is: 0.7134854730725274\n"
     ]
    },
    {
     "data": {
      "image/png": "[encoded data removed]",
      "text/plain": [
       "<Figure size 432x288 with 1 Axes>"
      ]
     },
     "metadata": {
      "needs_background": "light"
     },
     "output_type": "display_data"
    }
   ],
   "source": [
    "x = southern_hemi['Latitude']\n",
    "y = southern_hemi['Max Temp']\n",
    "y_label = \"Max Temp\"\n",
    "regression()"
   ]
  },
  {
   "cell_type": "markdown",
   "metadata": {},
   "source": [
    "####  Northern Hemisphere - Humidity (%) vs. Latitude Linear Regression"
   ]
  },
  {
   "cell_type": "code",
   "execution_count": 17,
   "metadata": {
    "scrolled": true
   },
   "outputs": [
    {
     "name": "stdout",
     "output_type": "stream",
     "text": [
      "The r-squared is: 4.859153459837878e-05\n"
     ]
    },
    {
     "data": {
      "image/png": "[encoded data removed]",
      "text/plain": [
       "<Figure size 432x288 with 1 Axes>"
      ]
     },
     "metadata": {
      "needs_background": "light"
     },
     "output_type": "display_data"
    }
   ],
   "source": [
    "x = northern_hemi['Latitude']\n",
    "y = northern_hemi['Humidity']\n",
    "y_label = \"Humidity\"\n",
    "regression()"
   ]
  },
  {
   "cell_type": "markdown",
   "metadata": {},
   "source": [
    "####  Southern Hemisphere - Humidity (%) vs. Latitude Linear Regression"
   ]
  },
  {
   "cell_type": "code",
   "execution_count": 18,
   "metadata": {
    "scrolled": true
   },
   "outputs": [
    {
     "name": "stdout",
     "output_type": "stream",
     "text": [
      "The r-squared is: 0.0006415103144195048\n"
     ]
    },
    {
     "data": {
      "image/png": "[encoded data removed]",
      "text/plain": [
       "<Figure size 432x288 with 1 Axes>"
      ]
     },
     "metadata": {
      "needs_background": "light"
     },
     "output_type": "display_data"
    }
   ],
   "source": [
    "x = southern_hemi['Latitude']\n",
    "y = southern_hemi['Humidity']\n",
    "y_label = \"Humidity\"\n",
    "regression()"
   ]
  },
  {
   "cell_type": "markdown",
   "metadata": {},
   "source": [
    "####  Northern Hemisphere - Cloudiness (%) vs. Latitude Linear Regression"
   ]
  },
  {
   "cell_type": "code",
   "execution_count": 19,
   "metadata": {
    "scrolled": true
   },
   "outputs": [
    {
     "name": "stdout",
     "output_type": "stream",
     "text": [
      "The r-squared is: 0.010966093628440062\n"
     ]
    },
    {
     "data": {
      "image/png": "[encoded data removed]",
      "text/plain": [
       "<Figure size 432x288 with 1 Axes>"
      ]
     },
     "metadata": {
      "needs_background": "light"
     },
     "output_type": "display_data"
    }
   ],
   "source": [
    "x = northern_hemi['Latitude']\n",
    "y = northern_hemi['Cloudiness']\n",
    "y_label = \"Cloudiness\"\n",
    "\n",
    "regression()"
   ]
  },
  {
   "cell_type": "markdown",
   "metadata": {},
   "source": [
    "####  Southern Hemisphere - Cloudiness (%) vs. Latitude Linear Regression"
   ]
  },
  {
   "cell_type": "code",
   "execution_count": 20,
   "metadata": {
    "scrolled": true
   },
   "outputs": [
    {
     "name": "stdout",
     "output_type": "stream",
     "text": [
      "The r-squared is: 0.051646415189463536\n"
     ]
    },
    {
     "data": {
      "image/png": "[encoded data removed]",
      "text/plain": [
       "<Figure size 432x288 with 1 Axes>"
      ]
     },
     "metadata": {
      "needs_background": "light"
     },
     "output_type": "display_data"
    }
   ],
   "source": [
    "x = southern_hemi['Latitude']\n",
    "y = southern_hemi['Cloudiness']\n",
    "y_label = \"Cloudiness\"\n",
    "regression()"
   ]
  },
  {
   "cell_type": "markdown",
   "metadata": {},
   "source": [
    "####  Northern Hemisphere - Wind Speed (mph) vs. Latitude Linear Regression"
   ]
  },
  {
   "cell_type": "code",
   "execution_count": 21,
   "metadata": {
    "scrolled": true
   },
   "outputs": [
    {
     "name": "stdout",
     "output_type": "stream",
     "text": [
      "The r-squared is: 0.012898076797258375\n"
     ]
    },
    {
     "data": {
      "image/png": "[encoded data removed]",
      "text/plain": [
       "<Figure size 432x288 with 1 Axes>"
      ]
     },
     "metadata": {
      "needs_background": "light"
     },
     "output_type": "display_data"
    }
   ],
   "source": [
    "x = northern_hemi['Latitude']\n",
    "y = northern_hemi['Wind Speed']\n",
    "y_label = \"Wind Speed (mph)\"\n",
    "\n",
    "regression()"
   ]
  },
  {
   "cell_type": "markdown",
   "metadata": {},
   "source": [
    "####  Southern Hemisphere - Wind Speed (mph) vs. Latitude Linear Regression"
   ]
  },
  {
   "cell_type": "code",
   "execution_count": 22,
   "metadata": {
    "scrolled": true
   },
   "outputs": [
    {
     "name": "stdout",
     "output_type": "stream",
     "text": [
      "The r-squared is: 0.016069980044244658\n"
     ]
    },
    {
     "data": {
      "image/png": "[encoded data removed]",
      "text/plain": [
       "<Figure size 432x288 with 1 Axes>"
      ]
     },
     "metadata": {
      "needs_background": "light"
     },
     "output_type": "display_data"
    }
   ],
   "source": [
    "x = southern_hemi['Latitude']\n",
    "y = southern_hemi['Wind Speed']\n",
    "y_label = \"Wind Speed\"\n",
    "regression()"
   ]
  },
  {
   "cell_type": "code",
   "execution_count": null,
   "metadata": {
    "scrolled": true
   },
   "outputs": [],
   "source": []
  }
 ],
 "metadata": {
  "anaconda-cloud": {},
  "kernel_info": {
   "name": "python3"
  },
  "kernelspec": {
   "display_name": "Python [conda env:PythonData] *",
   "language": "python",
   "name": "conda-env-PythonData-py"
  },
  "language_info": {
   "codemirror_mode": {
    "name": "ipython",
    "version": 3
   },
   "file_extension": ".py",
   "mimetype": "text/x-python",
   "name": "python",
   "nbconvert_exporter": "python",
   "pygments_lexer": "ipython3",
   "version": "3.6.10"
  },
  "latex_envs": {
   "LaTeX_envs_menu_present": true,
   "autoclose": false,
   "autocomplete": true,
   "bibliofile": "biblio.bib",
   "cite_by": "apalike",
   "current_citInitial": 1,
   "eqLabelWithNumbers": true,
   "eqNumInitial": 1,
   "hotkeys": {
    "equation": "Ctrl-E",
    "itemize": "Ctrl-I"
   },
   "labels_anchors": false,
   "latex_user_defs": false,
   "report_style_numbering": false,
   "user_envs_cfg": false
  },
  "nteract": {
   "version": "0.12.3"
  }
 },
 "nbformat": 4,
 "nbformat_minor": 2
}
